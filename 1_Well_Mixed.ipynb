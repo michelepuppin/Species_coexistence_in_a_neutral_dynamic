{
 "cells": [
  {
   "cell_type": "markdown",
   "metadata": {},
   "source": [
    "# Quantitative Life Science\n",
    "\n",
    "## Specie coexistence in a neutral dynamics with enviormental noise\n",
    "\n",
    "Michele Puppin - 1227474"
   ]
  },
  {
   "cell_type": "markdown",
   "metadata": {},
   "source": [
    "# Simulations - Well-mixed population "
   ]
  },
  {
   "cell_type": "code",
   "execution_count": null,
   "metadata": {},
   "outputs": [],
   "source": [
    "# Import packages\n",
    "import random\n",
    "import pandas as pd\n",
    "import numpy as np \n",
    "from joblib import Parallel, delayed\n",
    "from numba import jit\n",
    "import time\n",
    "import math\n",
    "import csv\n",
    "import os"
   ]
  },
  {
   "cell_type": "markdown",
   "metadata": {},
   "source": [
    "## 1) Linear fitness case"
   ]
  },
  {
   "cell_type": "code",
   "execution_count": null,
   "metadata": {},
   "outputs": [],
   "source": [
    "@jit(nopython=True) # Decorator for optimization by Numba’s JIT compiler\n",
    "def gillespie_wm_lfc(N, lambdaAB, k, sigma): # Gillespie algorithm\n",
    "    \n",
    "    x = random.random()\n",
    "    if x < 0.5: # Initialize state of the environment with uniform probability\n",
    "        epsilon = -1.0\n",
    "    else: \n",
    "        epsilon = 1.0\n",
    "        \n",
    "    t = 0.0\n",
    "    nA = int(N/2) # Initial number of individuals of species A\n",
    "    \n",
    "    while nA != N and nA != 0: # Run until species A monodominates or gets extinct\n",
    "        \n",
    "        r1 = random.random()\n",
    "        r2 = random.random()\n",
    "        \n",
    "        lambdaA = lambdaAB + sigma * epsilon / 2.0 # Compute the fitness based on state of the environment\n",
    "        lambdaB = lambdaAB - sigma * epsilon / 2.0\n",
    "        \n",
    "        rAB = lambdaA * nA * (N - nA) / N # Compute reaction rate\n",
    "        rBA = lambdaB * nA * (N - nA) / N\n",
    "        r_tot = rAB + rBA + k # Compute total rate\n",
    "        \n",
    "        dt = np.log(1.0/r1) / r_tot # Extract the time of the reaction from an exponential distribution\n",
    "        t += dt\n",
    "        \n",
    "        if r2 < k / r_tot: \n",
    "            epsilon = epsilon*(-1.0) # Cheange the environment with probability k / r_tot\n",
    "        else:\n",
    "            if r2 < (k + rAB) / (r_tot): \n",
    "                nA = nA - 1 # nA decreases with probability rAB / (r_tot)\n",
    "            else: \n",
    "                nA = nA + 1 # nA increases with probability rBA / (r_tot)\n",
    "        \n",
    "    return t"
   ]
  },
  {
   "cell_type": "code",
   "execution_count": null,
   "metadata": {},
   "outputs": [],
   "source": [
    "def ext_mean_time_wm_lfc(N, tau, niterations): # Run Gillespie algorithm for different population size\n",
    "\n",
    "    lambdaAB = 0.5 # Initialize fitness\n",
    "    k = 1.0 / (2.0 * tau) # Compute the rate of the state of the environmental \n",
    "    sigma = 0.25 # Initialize the variability of the environment\n",
    "\n",
    "    filename = \"wm_lfc_tau\"+str(tau)+\"sigma\"+str(sigma)+\".txt\"\n",
    "\n",
    "    if os.path.exists(filename): \n",
    "        os.remove(filename)\n",
    "\n",
    "    for i in range(len(N)): # Run Gillespie algorithm for each population size\n",
    "        print(\"N: \", N[i], \"n_iter: \", niterations[i])\n",
    "        # Run Gillespie algorithm in parallel for niterations realizations\n",
    "        res = Parallel(n_jobs=-1, verbose=1)(delayed(gillespie_wm_lfc)(N[i], lambdaAB, k, sigma) for it_er in range(niterations[i]))\n",
    "\n",
    "        with open(filename, \"a\") as f: # Store mean values of extintion time between realizations\n",
    "            writer = csv.writer(f)\n",
    "            writer.writerow((N[i], np.mean(res))) "
   ]
  },
  {
   "cell_type": "code",
   "execution_count": null,
   "metadata": {
    "scrolled": true
   },
   "outputs": [],
   "source": [
    "niterations = [100000, 50000, 25000, 12500, 6000, 3000, 2000, 1000, 1000, 1000] # Number of realizations for each population\n",
    "N = [math.floor(i/2)*2 for i in np.logspace(2,6,10)] # List of population size\n",
    "tau_list = [1.0/16.0 , 1.0/8.0, 1.0/4.0, 1.0/2.0, 1.0, 2.0, 4.0] # List of correlation time values\n",
    "\n",
    "for tau in tau_list: # Run for different values of correlation time\n",
    "    print(\"Tau: \", tau) \n",
    "    ext_mean_time_wm_lfc(N, tau, niterations)"
   ]
  },
  {
   "cell_type": "markdown",
   "metadata": {},
   "source": [
    "## 2) Relative fitness case"
   ]
  },
  {
   "cell_type": "code",
   "execution_count": null,
   "metadata": {},
   "outputs": [],
   "source": [
    "@jit(nopython=True) # Decorator for optimization by Numba’s JIT compiler\n",
    "def voter_model_wm_rfc(N, sAB, k, sigma): # Voter model dynamics\n",
    "    \n",
    "    x = random.random() # Initialize state of the environment with uniform probability\n",
    "    if x < 0.5:\n",
    "        epsilon = -1.0\n",
    "    else: \n",
    "        epsilon = 1.0\n",
    "        \n",
    "    t = 0.0\n",
    "    nA = int(N/2) # Initial number of individuals of species A\n",
    "    \n",
    "    print(tau)\n",
    "    \n",
    "    while nA != N and nA != 0: # Run until species A monodominates or gets extinct\n",
    "        \n",
    "        r1 = random.random()\n",
    "        r2 = random.random()\n",
    "        \n",
    "        sA = sAB + sigma * epsilon / 2.0 # Compute the number of seeds \n",
    "        sB = sAB - sigma * epsilon / 2.0\n",
    "        \n",
    "        lambdaA = sA / (sA * nA + sB * (N - nA)) # Compute the fitness based on the number of seeds\n",
    "        lambdaB = sB / (sA * nA + sB * (N - nA))\n",
    "        \n",
    "        rAB = lambdaA * nA * (N - nA) / N # Compute the probabilities\n",
    "        rBA = lambdaB * nA * (N - nA) / N \n",
    "        \n",
    "        if r1 < rAB: \n",
    "            nA = nA + 1 # nA increases with probability rAB\n",
    "        else: \n",
    "            if r1 < (rAB + rBA):\n",
    "                nA = nA - 1 # nA decreases with probability rAB\n",
    "                \n",
    "        dt = 1.0 / N # Time step\n",
    "        t += dt\n",
    "        \n",
    "        if r2 < (1.0 - np.exp(-k*dt)):\n",
    "            epsilon = epsilon*(-1.0) # Cheange the environment with probability given by rate k\n",
    "            \n",
    "    return t"
   ]
  },
  {
   "cell_type": "code",
   "execution_count": null,
   "metadata": {},
   "outputs": [],
   "source": [
    "def ext_mean_time_wm_rfc(N, tau, niterations): # Run Voter model dynamics for different population size\n",
    "\n",
    "    sAB = 0.5 # Initialize the number of seed\n",
    "    k = 1.0 / (2.0 * tau) # Compute the rate of the state of the environmental \n",
    "    sigma = 0.25 # Initialize the variability of the environment\n",
    "\n",
    "    filename = \"wm_rfc_tau\"+str(tau)+\".txt\"\n",
    "\n",
    "    if os.path.exists(filename): \n",
    "        os.remove(filename)\n",
    "\n",
    "    for i in range(len(N)): # Run Voter model dynamics for each population size\n",
    "        print(\"N: \", N[i], \"n_iter: \", niterations[i])\n",
    "        # Run Voter model dynamics in parallel for niterations realizations\n",
    "        res = Parallel(n_jobs=-1, verbose=1)(delayed(voter_model_wm_rfc)(N[i], sAB, k, sigma) for it_er in range(niterations[i]))\n",
    "\n",
    "        with open(filename, \"a\") as f: # Store mean values of extintion time between realizations\n",
    "            writer = csv.writer(f)\n",
    "            writer.writerow((N[i], np.mean(res)))"
   ]
  },
  {
   "cell_type": "code",
   "execution_count": null,
   "metadata": {
    "scrolled": true
   },
   "outputs": [],
   "source": [
    "niterations = [100, 100, 100, 100, 100, 100, 100, 100, 100, 100] # Number of realizations for each population\n",
    "N = [math.floor(i/2)*2 for i in np.logspace(2,6,10)] # List of population size\n",
    "tau_list = [1.0/16.0 , 1.0/8.0, 1.0/4.0, 1.0/2.0, 1.0, 2.0, 4.0] # List of correlation time values\n",
    "\n",
    "for tau in tau_list: # Run for different values of correlation time\n",
    "    print(\"Tau: \", tau) \n",
    "    ext_mean_time_wm_rfc(N, tau, niterations)"
   ]
  }
 ],
 "metadata": {
  "kernelspec": {
   "display_name": "Python 3",
   "language": "python",
   "name": "python3"
  },
  "language_info": {
   "codemirror_mode": {
    "name": "ipython",
    "version": 3
   },
   "file_extension": ".py",
   "mimetype": "text/x-python",
   "name": "python",
   "nbconvert_exporter": "python",
   "pygments_lexer": "ipython3",
   "version": "3.7.6"
  }
 },
 "nbformat": 4,
 "nbformat_minor": 4
}
